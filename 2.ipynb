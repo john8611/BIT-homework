{
 "cells": [
  {
   "cell_type": "markdown",
   "metadata": {},
   "source": [
    "## Figure out the difference in exon usage in PTEN alternative transcripts using Bioconductor only."
   ]
  },
  {
   "cell_type": "code",
   "execution_count": null,
   "metadata": {
    "collapsed": false
   },
   "outputs": [
    {
     "name": "stderr",
     "output_type": "stream",
     "text": [
      "Bioconductor version 3.1 (BiocInstaller 1.18.5), ?biocLite for help\n",
      "A newer version of Bioconductor is available for this version of R,\n",
      "  ?BiocUpgrade for help\n",
      "BioC_mirror: http://bioconductor.org\n",
      "Using Bioconductor version 3.1 (BiocInstaller 1.18.5), R version 3.2.2.\n",
      "Installing package(s) ‘GenomeGraphs’\n"
     ]
    }
   ],
   "source": [
    "source(\"http://bioconductor.org/biocLite.R\")\n",
    "biocLite(\"GenomeGraphs\")\n",
    "library(biomaRt)\n",
    "library(\"GenomeGraphs\")\n"
   ]
  },
  {
   "cell_type": "code",
   "execution_count": null,
   "metadata": {
    "collapsed": true
   },
   "outputs": [],
   "source": [
    "ensembl <- useEnsembl(biomart=\"ensembl\", dataset=\"hsapiens_gene_ensembl\")\n",
    "\n",
    "mysymbol = \"PTEN\"\n",
    "ensem_info <- getBM(attributes=c('ensembl_gene_id','gene_biotype','hgnc_symbol','chromosome_name','start_position','end_position'), \n",
    "      filters = 'hgnc_symbol', values =mysymbol, mart = ensembl)[1,]\n",
    "biocLite(\"GenomeGraphs\")\n",
    "\n",
    "ensem_info.ensembl_gene_id <-as.character(ensem_info[1])\n",
    "ensem_info.gene_biotype <- as.character(ensem_info[2])\n",
    "ensem_info.hgnc_symbol <-  as.character(ensem_info[3])\n",
    "ensem_info.chromosome_name <- as.character(ensem_info[4])\n",
    "ensem_info.start_position <- as.character(ensem_info[5])\n",
    "ensem_info.end_position <- as.character(ensem_info[6])\n",
    "\n",
    "library(\"GenomeGraphs\")\n",
    "mart <- useMart(\"ensembl\", dataset = \"hsapiens_gene_ensembl\")\n",
    "\n",
    "gene <- makeGene(id = ensem_info.ensembl_gene_id,type = \"ensembl_gene_id\", biomart = mart)\n",
    "\n",
    "transcript <- makeTranscript(id = ensem_info.ensembl_gene_id,type = \"ensembl_gene_id\", biomart = mart)\n",
    "\n",
    "genomeAxis <- makeGenomeAxis(add53 = TRUE)\n",
    "gdPlot(list(gene, transcript,genomeAxis))\n"
   ]
  }
 ],
 "metadata": {
  "kernelspec": {
   "display_name": "R",
   "language": "R",
   "name": "ir"
  },
  "language_info": {
   "codemirror_mode": "r",
   "file_extension": ".r",
   "mimetype": "text/x-r-source",
   "name": "R",
   "pygments_lexer": "r",
   "version": "3.2.2"
  }
 },
 "nbformat": 4,
 "nbformat_minor": 0
}
