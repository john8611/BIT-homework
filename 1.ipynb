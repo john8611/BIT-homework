{
 "cells": [
  {
   "cell_type": "markdown",
   "metadata": {},
   "source": [
    "## AnnotationHub exercises\n",
    "\n",
    "- Exercise 1: Use the AnnotationHub to extract UCSC data that is from Homo sapiens and also specifically from the hg19 genome. What happens to the hub object as you filter data at each step?\n",
    "\n",
    "\n",
    "- Exercise 2 Now that you have basically narrowed things down to the hg19 annotations from UCSC genome browser, lets get one of these annotations. Find the oreganno track and save it into a local variable."
   ]
  },
  {
   "cell_type": "code",
   "execution_count": 2,
   "metadata": {
    "collapsed": false
   },
   "outputs": [
    {
     "name": "stderr",
     "output_type": "stream",
     "text": [
      "Creating a generic function for ‘nchar’ from package ‘base’ in package ‘S4Vectors’\n",
      "Warning message:\n",
      ": 'AnnotationHub' database may not be current\n",
      "  database: ‘/home/madbunny/.AnnotationHub/annotationhub.sqlite3’\n",
      "  reason: Problem with the SSL CA cert (path? access rights?)"
     ]
    }
   ],
   "source": [
    "library(AnnotationHub)\n",
    "\n",
    "ah <- AnnotationHub()"
   ]
  },
  {
   "cell_type": "code",
   "execution_count": 4,
   "metadata": {
    "collapsed": false
   },
   "outputs": [
    {
     "data": {
      "text/html": [
       "5490"
      ],
      "text/latex": [
       "5490"
      ],
      "text/markdown": [
       "5490"
      ],
      "text/plain": [
       "[1] 5490"
      ]
     },
     "execution_count": 4,
     "metadata": {},
     "output_type": "execute_result"
    },
    {
     "data": {
      "text/html": [
       "5490"
      ],
      "text/latex": [
       "5490"
      ],
      "text/markdown": [
       "5490"
      ],
      "text/plain": [
       "[1] 5490"
      ]
     },
     "execution_count": 4,
     "metadata": {},
     "output_type": "execute_result"
    }
   ],
   "source": [
    "ahs <- query(ah, \"UCSC\")\n",
    "ahs <- subset(ahs, ahs$genome=='hg19')\n",
    "length(ahs)\n",
    "ahs <- subset(ahs, ahs$species=='Homo sapiens') \n",
    "length(ahs)"
   ]
  },
  {
   "cell_type": "code",
   "execution_count": 6,
   "metadata": {
    "collapsed": false
   },
   "outputs": [
    {
     "data": {
      "text/plain": [
       "AnnotationHub with 9 records\n",
       "# snapshotDate(): 2016-03-07 \n",
       "# $dataprovider: Pazar, UCSC\n",
       "# $species: Homo sapiens, Saccharomyces cerevisiae, NA\n",
       "# $rdataclass: GRanges\n",
       "# additional mcols(): taxonomyid, genome, description, tags, sourceurl,\n",
       "#   sourcetype \n",
       "# retrieve records with, e.g., 'object[[\"AH5087\"]]' \n",
       "\n",
       "            title                                 \n",
       "  AH5087  | ORegAnno                              \n",
       "  AH5213  | ORegAnno                              \n",
       "  AH7053  | ORegAnno                              \n",
       "  AH7061  | ORegAnno                              \n",
       "  AH22286 | pazar_ORegAnno_20120522.csv           \n",
       "  AH22287 | pazar_ORegAnno_ENCODEprom_20120522.csv\n",
       "  AH22288 | pazar_ORegAnno_Erythroid_20120522.csv \n",
       "  AH22289 | pazar_ORegAnno_STAT1_ChIP_20120522.csv\n",
       "  AH22290 | pazar_ORegAnno_STAT1_lit_20120522.csv "
      ]
     },
     "execution_count": 6,
     "metadata": {},
     "output_type": "execute_result"
    },
    {
     "data": {
      "text/plain": [
       "AnnotationHub with 1 record\n",
       "# snapshotDate(): 2016-03-07 \n",
       "# names(): AH5087\n",
       "# $dataprovider: UCSC\n",
       "# $species: Homo sapiens\n",
       "# $rdataclass: GRanges\n",
       "# $title: ORegAnno\n",
       "# $description: GRanges object from UCSC track 'ORegAnno'\n",
       "# $taxonomyid: 9606\n",
       "# $genome: hg19\n",
       "# $sourcetype: UCSC track\n",
       "# $sourceurl: rtracklayer://hgdownload.cse.ucsc.edu/goldenpath/hg19/database...\n",
       "# $sourcelastmodifieddate: NA\n",
       "# $sourcesize: NA\n",
       "# $tags: oreganno, UCSC, track, Gene, Transcript, Annotation \n",
       "# retrieve record with 'object[[\"AH5087\"]]' "
      ]
     },
     "execution_count": 6,
     "metadata": {},
     "output_type": "execute_result"
    },
    {
     "name": "stderr",
     "output_type": "stream",
     "text": [
      "require(“GenomicRanges”)\n",
      "retrieving 1 resources\n",
      "Warning message:\n",
      ": download failed\n",
      "  hub path: ‘https://annotationhub.bioconductor.org/fetch/5087’\n",
      "  cache path: ‘/home/madbunny/.AnnotationHub/5087’\n",
      "  reason: Problem with the SSL CA cert (path? access rights?)"
     ]
    },
    {
     "ename": "ERROR",
     "evalue": "Error in value[[3L]](cond): failed to load hub resource ‘ORegAnno’ of class GRanges; reason: 1\n    resources failed to download\n",
     "output_type": "error",
     "traceback": [
      "Error in value[[3L]](cond): failed to load hub resource ‘ORegAnno’ of class GRanges; reason: 1\n    resources failed to download\n"
     ]
    },
    {
     "ename": "ERROR",
     "evalue": "Error in eval(expr, envir, enclos): object 'oreg' not found\n",
     "output_type": "error",
     "traceback": [
      "Error in eval(expr, envir, enclos): object 'oreg' not found\n"
     ]
    }
   ],
   "source": [
    "ahs <- query(ah, 'oreganno')\n",
    "ahs\n",
    "ahs[1]\n",
    "oreg <- ahs[['AH5087']]\n",
    "oreg"
   ]
  },
  {
   "cell_type": "markdown",
   "metadata": {
    "collapsed": true
   },
   "source": [
    "## OrgDb exercises\n",
    "\n",
    "- Exercise 3: Look at the help page for the different columns and keytypes values with: help(“SYMBOL”). Now use this information and what we just described to look up the entrez gene and chromosome for the gene symbol “MSX2”.\n",
    "\n",
    "\n",
    "\n",
    "\n",
    "- Exercise 4: In the previous exercise we had to use gene symbols as keys. But in the past this kind of behavior has sometimes been inadvisable because some gene symbols are used as the official symbol for more than one gene. To learn if this is still happening take advantage of the fact that entrez gene ids are uniquely assigned, and extract all of the gene symbols and their associated entrez gene ids from the org.Hs.eg.db package. Then check the symbols for redundancy."
   ]
  },
  {
   "cell_type": "code",
   "execution_count": 7,
   "metadata": {
    "collapsed": true
   },
   "outputs": [
    {
     "ename": "ERROR",
     "evalue": "Error in eval(expr, envir, enclos): could not find function \"select\"\n",
     "output_type": "error",
     "traceback": [
      "Error in eval(expr, envir, enclos): could not find function \"select\"\n"
     ]
    }
   ],
   "source": [
    "keys <- \"MSX2\"\n",
    "columns <- c(\"ENTREZID\", \"CHR\")\n",
    "select(org.Hs.eg.db, keys, columns, keytype=\"SYMBOL\")\n"
   ]
  },
  {
   "cell_type": "code",
   "execution_count": 8,
   "metadata": {
    "collapsed": true
   },
   "outputs": [
    {
     "ename": "ERROR",
     "evalue": "Error in eval(expr, envir, enclos): could not find function \"keys\"\n",
     "output_type": "error",
     "traceback": [
      "Error in eval(expr, envir, enclos): could not find function \"keys\"\n"
     ]
    },
    {
     "ename": "ERROR",
     "evalue": "Error in eval(expr, envir, enclos): object 'egr' not found\n",
     "output_type": "error",
     "traceback": [
      "Error in eval(expr, envir, enclos): object 'egr' not found\n"
     ]
    },
    {
     "ename": "ERROR",
     "evalue": "Error in unique(egr$ENTREZID): error in evaluating the argument 'x' in selecting a method for function 'unique': Error: object 'egr' not found\n\n",
     "output_type": "error",
     "traceback": [
      "Error in unique(egr$ENTREZID): error in evaluating the argument 'x' in selecting a method for function 'unique': Error: object 'egr' not found\n\n"
     ]
    },
    {
     "ename": "ERROR",
     "evalue": "Error in unique(egr$SYMBOL): error in evaluating the argument 'x' in selecting a method for function 'unique': Error: object 'egr' not found\n\n",
     "output_type": "error",
     "traceback": [
      "Error in unique(egr$SYMBOL): error in evaluating the argument 'x' in selecting a method for function 'unique': Error: object 'egr' not found\n\n"
     ]
    },
    {
     "ename": "ERROR",
     "evalue": "Error in eval(expr, envir, enclos): object 'egr' not found\n",
     "output_type": "error",
     "traceback": [
      "Error in eval(expr, envir, enclos): object 'egr' not found\n"
     ]
    },
    {
     "ename": "ERROR",
     "evalue": "Error in eval(expr, envir, enclos): object 'redund' not found\n",
     "output_type": "error",
     "traceback": [
      "Error in eval(expr, envir, enclos): object 'redund' not found\n"
     ]
    },
    {
     "ename": "ERROR",
     "evalue": "Error in eval(expr, envir, enclos): could not find function \"select\"\n",
     "output_type": "error",
     "traceback": [
      "Error in eval(expr, envir, enclos): could not find function \"select\"\n"
     ]
    }
   ],
   "source": [
    "orgSymbols <- keys(org.Hs.eg.db, keytype=\"SYMBOL\")\n",
    "length(egr$ENTREZID)\n",
    "length(unique(egr$ENTREZID))\n",
    "length(unique(egr$SYMBOL))\n",
    "redund <- egr$SYMBOL\n",
    "badSymbols <- redund[duplicated(redund)]\n",
    "select(org.Hs.eg.db, badSymbols, \"ENTREZID\", \"SYMBOL\")"
   ]
  },
  {
   "cell_type": "markdown",
   "metadata": {
    "collapsed": true
   },
   "source": [
    "## TxDb exercises\n",
    "\n",
    "- Exercise 5: Use the accessors for the TxDb.Hsapiens.UCSC.hg19.knownGene package to retrieve the gene id, transcript name and transcript chromosome for all the transcripts. Do this using both the select() method and also using the transcripts() method. What is the difference in the output?\n",
    "\n",
    "\n",
    "- Exercise 6: Load the TxDb.Athaliana.BioMart.plantsmart22 package. This package is not from UCSC and it is based on plantsmart. Now use select or one of the range based accessors to look at the gene ids from this TxDb object. How do they compare to what you saw in the TxDb.Hsapiens.UCSC.hg19.knownGene package?"
   ]
  },
  {
   "cell_type": "code",
   "execution_count": 9,
   "metadata": {
    "collapsed": false
   },
   "outputs": [
    {
     "name": "stderr",
     "output_type": "stream",
     "text": [
      "Loading required package: GenomicFeatures\n",
      "Loading required package: AnnotationDbi\n",
      "Loading required package: Biobase\n",
      "Welcome to Bioconductor\n",
      "\n",
      "    Vignettes contain introductory material; view with\n",
      "    'browseVignettes()'. To cite Bioconductor, see\n",
      "    'citation(\"Biobase\")', and for packages 'citation(\"pkgname\")'.\n",
      "\n",
      "\n",
      "Attaching package: ‘Biobase’\n",
      "\n",
      "The following object is masked from ‘package:AnnotationHub’:\n",
      "\n",
      "    cache\n",
      "\n"
     ]
    }
   ],
   "source": [
    "library(TxDb.Hsapiens.UCSC.hg19.knownGene)"
   ]
  },
  {
   "cell_type": "code",
   "execution_count": 10,
   "metadata": {
    "collapsed": false
   },
   "outputs": [
    {
     "data": {
      "text/html": [
       "<table>\n",
       "<thead><tr><th></th><th scope=col>TXID</th><th scope=col>GENEID</th><th scope=col>TXNAME</th><th scope=col>TXCHROM</th></tr></thead>\n",
       "<tbody>\n",
       "\t<tr><th scope=row>1</th><td>1</td><td>100287102</td><td>uc001aaa.3</td><td>chr1</td></tr>\n",
       "\t<tr><th scope=row>2</th><td>2</td><td>100287102</td><td>uc010nxq.1</td><td>chr1</td></tr>\n",
       "\t<tr><th scope=row>3</th><td>3</td><td>100287102</td><td>uc010nxr.1</td><td>chr1</td></tr>\n",
       "\t<tr><th scope=row>4</th><td>4</td><td>79501</td><td>uc001aal.1</td><td>chr1</td></tr>\n",
       "\t<tr><th scope=row>5</th><td>5</td><td>NA</td><td>uc001aaq.2</td><td>chr1</td></tr>\n",
       "\t<tr><th scope=row>6</th><td>6</td><td>NA</td><td>uc001aar.2</td><td>chr1</td></tr>\n",
       "</tbody>\n",
       "</table>\n"
      ],
      "text/latex": [
       "\\begin{tabular}{r|llll}\n",
       "  & TXID & GENEID & TXNAME & TXCHROM\\\\\n",
       "\\hline\n",
       "\t1 & 1 & 100287102 & uc001aaa.3 & chr1\\\\\n",
       "\t2 & 2 & 100287102 & uc010nxq.1 & chr1\\\\\n",
       "\t3 & 3 & 100287102 & uc010nxr.1 & chr1\\\\\n",
       "\t4 & 4 & 79501 & uc001aal.1 & chr1\\\\\n",
       "\t5 & 5 & NA & uc001aaq.2 & chr1\\\\\n",
       "\t6 & 6 & NA & uc001aar.2 & chr1\\\\\n",
       "\\end{tabular}\n"
      ],
      "text/plain": [
       "  TXID    GENEID     TXNAME TXCHROM\n",
       "1    1 100287102 uc001aaa.3    chr1\n",
       "2    2 100287102 uc010nxq.1    chr1\n",
       "3    3 100287102 uc010nxr.1    chr1\n",
       "4    4     79501 uc001aal.1    chr1\n",
       "5    5      <NA> uc001aaq.2    chr1\n",
       "6    6      <NA> uc001aar.2    chr1"
      ]
     },
     "execution_count": 10,
     "metadata": {},
     "output_type": "execute_result"
    },
    {
     "data": {
      "text/plain": [
       "GRanges object with 6 ranges and 2 metadata columns:\n",
       "      seqnames           ranges strand |         gene_id     tx_name\n",
       "         <Rle>        <IRanges>  <Rle> | <CharacterList> <character>\n",
       "  [1]     chr1 [ 11874,  14409]      + |       100287102  uc001aaa.3\n",
       "  [2]     chr1 [ 11874,  14409]      + |       100287102  uc010nxq.1\n",
       "  [3]     chr1 [ 11874,  14409]      + |       100287102  uc010nxr.1\n",
       "  [4]     chr1 [ 69091,  70008]      + |           79501  uc001aal.1\n",
       "  [5]     chr1 [321084, 321115]      + |                  uc001aaq.2\n",
       "  [6]     chr1 [321146, 321207]      + |                  uc001aar.2\n",
       "  -------\n",
       "  seqinfo: 93 sequences (1 circular) from hg19 genome"
      ]
     },
     "execution_count": 10,
     "metadata": {},
     "output_type": "execute_result"
    }
   ],
   "source": [
    "res1 <- select(TxDb.Hsapiens.UCSC.hg19.knownGene, \n",
    "               keys(TxDb.Hsapiens.UCSC.hg19.knownGene, keytype=\"TXID\"),\n",
    "               columns=c(\"GENEID\",\"TXNAME\",\"TXCHROM\"), keytype=\"TXID\")\n",
    "\n",
    "head(res1)\n",
    "\n",
    "res2 <- transcripts(TxDb.Hsapiens.UCSC.hg19.knownGene, \n",
    "                    columns = c(\"gene_id\",\"tx_name\")) \n",
    "head(res2)"
   ]
  },
  {
   "cell_type": "code",
   "execution_count": null,
   "metadata": {
    "collapsed": true
   },
   "outputs": [],
   "source": [
    "biocLite(\"TxDb.Athaliana.BioMart.plantsmart22\")\n",
    "\n",
    "library(TxDb.Athaliana.BioMart.plantsmart22)\n",
    "res <- transcripts(TxDb.Athaliana.BioMart.plantsmart22, columns = c(\"gene_id\")) "
   ]
  },
  {
   "cell_type": "markdown",
   "metadata": {},
   "source": [
    "## OrganismDb exercises\n",
    "\n",
    "- Exercise 7: Use the Homo.sapiens object to look up the gene symbol, transcript start and chromosome using select(). Then do the same thing using transcripts. You might expect that this call to transcripts will look the same as it did for the TxDb object, but (temporarily) it will not.\n",
    "\n",
    "\n",
    "- Exercise 8: Look at the results from call the columns method on the Homo.sapiens object and compare that to what happens when you call columns on the org.Hs.eg.db object and then look at a call to columns on the TxDb.Hsapiens.UCSC.hg19.knownGene object. What is the difference between TXSTART and CHRLOC? Which one do you think you should use for transcripts or other genomic information?\n",
    "\n",
    "\n",
    "- Exercise 9: Use the Homo.sapiens object with the keys method to look up the entrez gene IDs for all gene symbols that contain the letter “X”."
   ]
  },
  {
   "cell_type": "code",
   "execution_count": null,
   "metadata": {
    "collapsed": true
   },
   "outputs": [],
   "source": [
    "library(Homo.sapiens)\n",
    "keys <- keys(Homo.sapiens, keytype=\"TXID\")\n",
    "res1 <- select(Homo.sapiens, \n",
    "               keys= keys,\n",
    "               columns=c(\"SYMBOL\",\"TXSTART\",\"TXCHROM\"), keytype=\"TXID\")\n",
    "\n",
    "head(res1)"
   ]
  },
  {
   "cell_type": "code",
   "execution_count": null,
   "metadata": {
    "collapsed": true
   },
   "outputs": [],
   "source": [
    "library(Homo.sapiens)\n",
    "res2 <- transcripts(Homo.sapiens, columns=\"SYMBOL\") \n",
    "head(res2)"
   ]
  },
  {
   "cell_type": "markdown",
   "metadata": {},
   "source": [
    "## BSgenome exercises\n",
    "\n",
    "- Exercise 10: Use what you have just learned to extract the sequence for the PTEN gene."
   ]
  },
  {
   "cell_type": "code",
   "execution_count": null,
   "metadata": {
    "collapsed": true
   },
   "outputs": [],
   "source": [
    "columns(Homo.sapiens)\n",
    "columns(org.Hs.eg.db)\n",
    "transcripts(Homo.sapiens, columns=c(\"SYMBOL\",\"CHRLOC\"))"
   ]
  },
  {
   "cell_type": "code",
   "execution_count": null,
   "metadata": {
    "collapsed": true
   },
   "outputs": [],
   "source": [
    "library(Homo.sapiens)\n",
    "xk = head(keys(Homo.sapiens, keytype=\"ENTREZID\", pattern=\"X\", column=\"SYMBOL\"))\n",
    "xk\n",
    "select(Homo.sapiens, xk, \"SYMBOL\", \"ENTREZID\")"
   ]
  },
  {
   "cell_type": "code",
   "execution_count": null,
   "metadata": {
    "collapsed": true
   },
   "outputs": [],
   "source": [
    "library(\"BSgenome.Hsapiens.UCSC.hg19\")\n",
    "txby <- transcriptsBy(Homo.sapiens, by=\"gene\")\n",
    "select(Homo.sapiens, keys='PTEN', columns='ENTREZID', keytype='SYMBOL')\n",
    "geneOfInterest <- txby[[\"5728\"]]\n",
    "res <- getSeq(Hsapiens, geneOfInterest)\n",
    "res\n"
   ]
  },
  {
   "cell_type": "markdown",
   "metadata": {},
   "source": [
    "## biomaRt exercises\n",
    "\n",
    "- Exercise 11: Pull down GO terms for entrez gene id “1” from human by using the ensembl “hsapiens_gene_ensembl” dataset.\n",
    "\n",
    "\n",
    "- Exercise 12: Now compare the GO terms you just pulled down to the same GO terms from the org.Hs.eg.db package (which you can now retrieve using select()). What differences do you notice? Why do you suspect that is?"
   ]
  },
  {
   "cell_type": "code",
   "execution_count": null,
   "metadata": {
    "collapsed": true
   },
   "outputs": [],
   "source": [
    "library(\"biomaRt\")\n",
    "ensembl <- useMart(\"ensembl\",dataset=\"hsapiens_gene_ensembl\")\n",
    "ids=c(\"1\")\n",
    "getBM(attributes=c('go_id', 'entrezgene'), \n",
    "            filters = 'entrezgene',\n",
    "                    values = ids, mart = ensembl)"
   ]
  },
  {
   "cell_type": "code",
   "execution_count": null,
   "metadata": {
    "collapsed": true
   },
   "outputs": [],
   "source": [
    "library(org.Hs.eg.db)\n",
    "ids=c(\"1\")\n",
    "select(org.Hs.eg.db, keys=ids, columns=\"GO\", keytype=\"ENTREZID\")"
   ]
  }
 ],
 "metadata": {
  "kernelspec": {
   "display_name": "R",
   "language": "R",
   "name": "ir"
  },
  "language_info": {
   "codemirror_mode": "r",
   "file_extension": ".r",
   "mimetype": "text/x-r-source",
   "name": "R",
   "pygments_lexer": "r",
   "version": "3.2.2"
  }
 },
 "nbformat": 4,
 "nbformat_minor": 0
}
